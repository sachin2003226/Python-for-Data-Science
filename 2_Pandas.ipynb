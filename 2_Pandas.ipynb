{
  "nbformat": 4,
  "nbformat_minor": 0,
  "metadata": {
    "colab": {
      "provenance": [],
      "authorship_tag": "ABX9TyPivQT5y65csxVP0UJ0jhAO",
      "include_colab_link": true
    },
    "kernelspec": {
      "name": "python3",
      "display_name": "Python 3"
    },
    "language_info": {
      "name": "python"
    }
  },
  "cells": [
    {
      "cell_type": "markdown",
      "metadata": {
        "id": "view-in-github",
        "colab_type": "text"
      },
      "source": [
        "<a href=\"https://colab.research.google.com/github/sachin2003226/Python-for-Data-Science/blob/main/2_Pandas.ipynb\" target=\"_parent\"><img src=\"https://colab.research.google.com/assets/colab-badge.svg\" alt=\"Open In Colab\"/></a>"
      ]
    },
    {
      "cell_type": "markdown",
      "source": [
        "#Introduction to Pandas\n"
      ],
      "metadata": {
        "id": "jWAda0mnDm7w"
      }
    },
    {
      "cell_type": "code",
      "source": [
        "import pandas as pd\n"
      ],
      "metadata": {
        "id": "10IPMX5iDqo4"
      },
      "execution_count": 1,
      "outputs": []
    },
    {
      "cell_type": "code",
      "source": [
        "import pandas as pd\n",
        "# 1. Using list of dictionary\n",
        "lst = [{\"C1\": 1, \"C2\": 2},\n",
        "        {\"C1\": 5, \"C2\": 10, \"C3\": 20}]\n",
        "# Observe NaN\n",
        "print(pd.DataFrame(lst, index = [\"R1\", \"R2\"]))\n",
        "#     C1  C2    C3\n",
        "# R1   1   2   NaN\n",
        "# R2   5  10  20.0\n",
        "# 2. Using dictionary\n",
        "dc = {\"C1\": [\"1\", \"3\"],\n",
        "        \"C2\": [\"2\",\"4\"]}\n",
        "print( pd.DataFrame(dc, index = [\"R1\", \"R2\"]) )\n",
        "#    C1 C2\n",
        "# R1  1  2\n",
        "# R2  3  4\n",
        "# 3. Using list\n",
        "lst = [[52,32],[45,85]]\n",
        "print(pd.DataFrame(lst, index = list('pq'), columns = list('ab')))\n",
        "#     a   b\n",
        "# p  52  32\n",
        "# q  45  85\n",
        "\n",
        "\n"
      ],
      "metadata": {
        "colab": {
          "base_uri": "https://localhost:8080/"
        },
        "id": "dI9MC7JmD13u",
        "outputId": "f977ab42-07c3-4f8f-b653-a40fb636b0d4"
      },
      "execution_count": 2,
      "outputs": [
        {
          "output_type": "stream",
          "name": "stdout",
          "text": [
            "    C1  C2    C3\n",
            "R1   1   2   NaN\n",
            "R2   5  10  20.0\n",
            "   C1 C2\n",
            "R1  1  2\n",
            "R2  3  4\n",
            "    a   b\n",
            "p  52  32\n",
            "q  45  85\n"
          ]
        }
      ]
    },
    {
      "cell_type": "code",
      "source": [
        "df = pd.DataFrame({'A': [10., 20.],\n",
        "                    'B': \"text\",\n",
        "                    'C': [2,60],\n",
        "                    'D': 3+9j})\n",
        "print(df)\n",
        "#       A     B   C       D\n",
        "# 0  10.0  text   2  (3+9j)\n",
        "# 1  20.0  text  60  (3+9j)\n",
        "print(df.dtypes)\n",
        "# A       float64\n",
        "# B        object\n",
        "# C         int64\n",
        "# D    complex128\n",
        "# dtype: object\n",
        "\n"
      ],
      "metadata": {
        "colab": {
          "base_uri": "https://localhost:8080/"
        },
        "id": "6zHnj6QYD3wW",
        "outputId": "e28765b9-1ee7-44ae-ed01-118863810734"
      },
      "execution_count": 3,
      "outputs": [
        {
          "output_type": "stream",
          "name": "stdout",
          "text": [
            "      A     B   C         D\n",
            "0  10.0  text   2  3.0+9.0j\n",
            "1  20.0  text  60  3.0+9.0j\n",
            "A       float64\n",
            "B        object\n",
            "C         int64\n",
            "D    complex128\n",
            "dtype: object\n"
          ]
        }
      ]
    },
    {
      "cell_type": "code",
      "source": [
        "print(df.info())\n",
        "# < class 'pandas.core.frame.DataFrame' >\n",
        "# RangeIndex: 2 entries, 0 to 1\n",
        "# Data columns (total 4 columns):\n",
        "# A    2 non-null float64\n",
        "# B    2 non-null object\n",
        "# C    2 non-null int64\n",
        "# D    2 non-null complex128\n",
        "# dtypes: complex128(1), float64(1), int64(1), object(1)\n",
        "# memory usage: 160.0+ bytes\n",
        "\n"
      ],
      "metadata": {
        "colab": {
          "base_uri": "https://localhost:8080/"
        },
        "id": "hcHHpFiTD6YH",
        "outputId": "3b63d9b4-e749-477c-8d91-2f872bc67481"
      },
      "execution_count": 4,
      "outputs": [
        {
          "output_type": "stream",
          "name": "stdout",
          "text": [
            "<class 'pandas.core.frame.DataFrame'>\n",
            "RangeIndex: 2 entries, 0 to 1\n",
            "Data columns (total 4 columns):\n",
            " #   Column  Non-Null Count  Dtype     \n",
            "---  ------  --------------  -----     \n",
            " 0   A       2 non-null      float64   \n",
            " 1   B       2 non-null      object    \n",
            " 2   C       2 non-null      int64     \n",
            " 3   D       2 non-null      complex128\n",
            "dtypes: complex128(1), float64(1), int64(1), object(1)\n",
            "memory usage: 212.0+ bytes\n",
            "None\n"
          ]
        }
      ]
    },
    {
      "cell_type": "code",
      "source": [
        "print((df.index))   #index of rows\n",
        "# RangeIndex(start=0, stop=2, step=1)\n",
        "print(df.columns)   # index of columns\n",
        "# Index(['A', 'B', 'C', 'D'], dtype='object')\n",
        "print(df.values)    # display values of df\n",
        "# [[10.0 'text' 2 (3+9j)]\n",
        "#  [20.0 'text' 60 (3+9j)]]\n",
        "\n"
      ],
      "metadata": {
        "colab": {
          "base_uri": "https://localhost:8080/"
        },
        "id": "fxadU0mGD8d_",
        "outputId": "0f530067-0272-4265-e15f-99b2e95cc765"
      },
      "execution_count": 5,
      "outputs": [
        {
          "output_type": "stream",
          "name": "stdout",
          "text": [
            "RangeIndex(start=0, stop=2, step=1)\n",
            "Index(['A', 'B', 'C', 'D'], dtype='object')\n",
            "[[10.0 'text' 2 (3+9j)]\n",
            " [20.0 'text' 60 (3+9j)]]\n"
          ]
        }
      ]
    },
    {
      "cell_type": "markdown",
      "source": [
        "Exercise\n",
        "Problem Statement:\n",
        "Given below is a DataFrame df:\n",
        "\n",
        "import pandas as pd\n",
        "df = pd.DataFrame([[0.23,'f1'],[5.36,'f2']],\n",
        "                  index = list('pq'),\n",
        "                    columns = list('ab'))\n",
        "              \n",
        "Do the following:\n",
        "\n",
        "Change the column name from ' a' to ' A'.\n",
        "\n",
        "Add a new column ' c' filled with random values.\n",
        "\n",
        "Change the datatype of column ' A' values to complex.\n",
        "\n",
        "Display rows whose any of the element matches with any element of the given list:\n",
        "\n",
        "lst = ['f30','f50','f2','f0']"
      ],
      "metadata": {
        "id": "Tz-19mWgEekB"
      }
    },
    {
      "cell_type": "code",
      "source": [
        "import pandas as pd\n",
        "import numpy as np\n",
        "\n",
        "# Step 1: Create the DataFrame\n",
        "df = pd.DataFrame([[0.23, 'f1'], [5.36, 'f2']],\n",
        "                  index=list('pq'),\n",
        "                  columns=list('ab'))\n",
        "\n",
        "# Step 2: Rename column 'a' to 'A'\n",
        "df.rename(columns={'a': 'A'}, inplace=True)\n",
        "\n",
        "# Step 3: Add new column 'c' filled with random values\n",
        "df['c'] = np.random.rand(len(df))\n",
        "\n",
        "# Step 4: Change datatype of column 'A' to complex\n",
        "df['A'] = df['A'].astype(complex)\n",
        "\n",
        "# Step 5: Display rows matching any element from the list\n",
        "lst = ['f30', 'f50', 'f2', 'f0']\n",
        "filtered_df = df[df.isin(lst).any(axis=1)]\n",
        "\n",
        "# Output results\n",
        "print(\"Modified DataFrame:\\n\", df)\n",
        "print(\"\\nFiltered Rows:\\n\", filtered_df)\n"
      ],
      "metadata": {
        "colab": {
          "base_uri": "https://localhost:8080/"
        },
        "id": "v1CzLHTjEaCR",
        "outputId": "71c268a8-d190-43a1-a4f5-ed4b7287dd10"
      },
      "execution_count": 6,
      "outputs": [
        {
          "output_type": "stream",
          "name": "stdout",
          "text": [
            "Modified DataFrame:\n",
            "             A   b         c\n",
            "p  0.23+0.00j  f1  0.231551\n",
            "q  5.36+0.00j  f2  0.399917\n",
            "\n",
            "Filtered Rows:\n",
            "             A   b         c\n",
            "q  5.36+0.00j  f2  0.399917\n"
          ]
        }
      ]
    },
    {
      "cell_type": "code",
      "source": [
        "import pandas as pd\n",
        "\n",
        "df = pd.DataFrame([[54.2,'a'],[658,'d']],\n",
        "                  index = list('pq'))\n",
        "df.columns = df.index\n",
        "print(df.columns.values)"
      ],
      "metadata": {
        "colab": {
          "base_uri": "https://localhost:8080/"
        },
        "id": "QYn_LOC1EgDC",
        "outputId": "38545b20-d8f6-492e-ac73-b7f518bc670b"
      },
      "execution_count": 7,
      "outputs": [
        {
          "output_type": "stream",
          "name": "stdout",
          "text": [
            "['p' 'q']\n"
          ]
        }
      ]
    },
    {
      "cell_type": "code",
      "source": [
        "import pandas as pd\n",
        "df = pd.DataFrame([[11, 202],\n",
        "                    [33, 44]],\n",
        "                    index = list('AB'),\n",
        "                    columns = list('CD'))\n",
        "''' Writing to excel file '''\n",
        "df.to_excel('test_file.xlsx', sheet_name = 'Sheet1')\n",
        "''' Reading from excel file '''\n",
        "print(pd.read_excel('test_file.xlsx', 'Sheet1'))\n",
        "\n"
      ],
      "metadata": {
        "colab": {
          "base_uri": "https://localhost:8080/"
        },
        "id": "ehUs5hjtE5cS",
        "outputId": "2e97e189-16a4-420e-b3d6-4b3f6925849c"
      },
      "execution_count": 8,
      "outputs": [
        {
          "output_type": "stream",
          "name": "stdout",
          "text": [
            "  Unnamed: 0   C    D\n",
            "0          A  11  202\n",
            "1          B  33   44\n"
          ]
        }
      ]
    },
    {
      "cell_type": "code",
      "source": [
        "import numpy as np\n",
        "import pandas as pd\n",
        "df = pd.read_table('chat.txt')\n",
        "\n"
      ],
      "metadata": {
        "colab": {
          "base_uri": "https://localhost:8080/",
          "height": 370
        },
        "id": "cyEbNtFRE70U",
        "outputId": "16246a9c-d4f1-4f8d-fd5d-38bed451a70b"
      },
      "execution_count": 9,
      "outputs": [
        {
          "output_type": "error",
          "ename": "FileNotFoundError",
          "evalue": "[Errno 2] No such file or directory: 'chat.txt'",
          "traceback": [
            "\u001b[0;31m---------------------------------------------------------------------------\u001b[0m",
            "\u001b[0;31mFileNotFoundError\u001b[0m                         Traceback (most recent call last)",
            "\u001b[0;32m<ipython-input-9-dbd5c6f00965>\u001b[0m in \u001b[0;36m<cell line: 0>\u001b[0;34m()\u001b[0m\n\u001b[1;32m      1\u001b[0m \u001b[0;32mimport\u001b[0m \u001b[0mnumpy\u001b[0m \u001b[0;32mas\u001b[0m \u001b[0mnp\u001b[0m\u001b[0;34m\u001b[0m\u001b[0;34m\u001b[0m\u001b[0m\n\u001b[1;32m      2\u001b[0m \u001b[0;32mimport\u001b[0m \u001b[0mpandas\u001b[0m \u001b[0;32mas\u001b[0m \u001b[0mpd\u001b[0m\u001b[0;34m\u001b[0m\u001b[0;34m\u001b[0m\u001b[0m\n\u001b[0;32m----> 3\u001b[0;31m \u001b[0mdf\u001b[0m \u001b[0;34m=\u001b[0m \u001b[0mpd\u001b[0m\u001b[0;34m.\u001b[0m\u001b[0mread_table\u001b[0m\u001b[0;34m(\u001b[0m\u001b[0;34m'chat.txt'\u001b[0m\u001b[0;34m)\u001b[0m\u001b[0;34m\u001b[0m\u001b[0;34m\u001b[0m\u001b[0m\n\u001b[0m\u001b[1;32m      4\u001b[0m \u001b[0;34m\u001b[0m\u001b[0m\n",
            "\u001b[0;32m/usr/local/lib/python3.11/dist-packages/pandas/io/parsers/readers.py\u001b[0m in \u001b[0;36mread_table\u001b[0;34m(filepath_or_buffer, sep, delimiter, header, names, index_col, usecols, dtype, engine, converters, true_values, false_values, skipinitialspace, skiprows, skipfooter, nrows, na_values, keep_default_na, na_filter, verbose, skip_blank_lines, parse_dates, infer_datetime_format, keep_date_col, date_parser, date_format, dayfirst, cache_dates, iterator, chunksize, compression, thousands, decimal, lineterminator, quotechar, quoting, doublequote, escapechar, comment, encoding, encoding_errors, dialect, on_bad_lines, delim_whitespace, low_memory, memory_map, float_precision, storage_options, dtype_backend)\u001b[0m\n\u001b[1;32m   1403\u001b[0m     \u001b[0mkwds\u001b[0m\u001b[0;34m.\u001b[0m\u001b[0mupdate\u001b[0m\u001b[0;34m(\u001b[0m\u001b[0mkwds_defaults\u001b[0m\u001b[0;34m)\u001b[0m\u001b[0;34m\u001b[0m\u001b[0;34m\u001b[0m\u001b[0m\n\u001b[1;32m   1404\u001b[0m \u001b[0;34m\u001b[0m\u001b[0m\n\u001b[0;32m-> 1405\u001b[0;31m     \u001b[0;32mreturn\u001b[0m \u001b[0m_read\u001b[0m\u001b[0;34m(\u001b[0m\u001b[0mfilepath_or_buffer\u001b[0m\u001b[0;34m,\u001b[0m \u001b[0mkwds\u001b[0m\u001b[0;34m)\u001b[0m\u001b[0;34m\u001b[0m\u001b[0;34m\u001b[0m\u001b[0m\n\u001b[0m\u001b[1;32m   1406\u001b[0m \u001b[0;34m\u001b[0m\u001b[0m\n\u001b[1;32m   1407\u001b[0m \u001b[0;34m\u001b[0m\u001b[0m\n",
            "\u001b[0;32m/usr/local/lib/python3.11/dist-packages/pandas/io/parsers/readers.py\u001b[0m in \u001b[0;36m_read\u001b[0;34m(filepath_or_buffer, kwds)\u001b[0m\n\u001b[1;32m    618\u001b[0m \u001b[0;34m\u001b[0m\u001b[0m\n\u001b[1;32m    619\u001b[0m     \u001b[0;31m# Create the parser.\u001b[0m\u001b[0;34m\u001b[0m\u001b[0;34m\u001b[0m\u001b[0m\n\u001b[0;32m--> 620\u001b[0;31m     \u001b[0mparser\u001b[0m \u001b[0;34m=\u001b[0m \u001b[0mTextFileReader\u001b[0m\u001b[0;34m(\u001b[0m\u001b[0mfilepath_or_buffer\u001b[0m\u001b[0;34m,\u001b[0m \u001b[0;34m**\u001b[0m\u001b[0mkwds\u001b[0m\u001b[0;34m)\u001b[0m\u001b[0;34m\u001b[0m\u001b[0;34m\u001b[0m\u001b[0m\n\u001b[0m\u001b[1;32m    621\u001b[0m \u001b[0;34m\u001b[0m\u001b[0m\n\u001b[1;32m    622\u001b[0m     \u001b[0;32mif\u001b[0m \u001b[0mchunksize\u001b[0m \u001b[0;32mor\u001b[0m \u001b[0miterator\u001b[0m\u001b[0;34m:\u001b[0m\u001b[0;34m\u001b[0m\u001b[0;34m\u001b[0m\u001b[0m\n",
            "\u001b[0;32m/usr/local/lib/python3.11/dist-packages/pandas/io/parsers/readers.py\u001b[0m in \u001b[0;36m__init__\u001b[0;34m(self, f, engine, **kwds)\u001b[0m\n\u001b[1;32m   1618\u001b[0m \u001b[0;34m\u001b[0m\u001b[0m\n\u001b[1;32m   1619\u001b[0m         \u001b[0mself\u001b[0m\u001b[0;34m.\u001b[0m\u001b[0mhandles\u001b[0m\u001b[0;34m:\u001b[0m \u001b[0mIOHandles\u001b[0m \u001b[0;34m|\u001b[0m \u001b[0;32mNone\u001b[0m \u001b[0;34m=\u001b[0m \u001b[0;32mNone\u001b[0m\u001b[0;34m\u001b[0m\u001b[0;34m\u001b[0m\u001b[0m\n\u001b[0;32m-> 1620\u001b[0;31m         \u001b[0mself\u001b[0m\u001b[0;34m.\u001b[0m\u001b[0m_engine\u001b[0m \u001b[0;34m=\u001b[0m \u001b[0mself\u001b[0m\u001b[0;34m.\u001b[0m\u001b[0m_make_engine\u001b[0m\u001b[0;34m(\u001b[0m\u001b[0mf\u001b[0m\u001b[0;34m,\u001b[0m \u001b[0mself\u001b[0m\u001b[0;34m.\u001b[0m\u001b[0mengine\u001b[0m\u001b[0;34m)\u001b[0m\u001b[0;34m\u001b[0m\u001b[0;34m\u001b[0m\u001b[0m\n\u001b[0m\u001b[1;32m   1621\u001b[0m \u001b[0;34m\u001b[0m\u001b[0m\n\u001b[1;32m   1622\u001b[0m     \u001b[0;32mdef\u001b[0m \u001b[0mclose\u001b[0m\u001b[0;34m(\u001b[0m\u001b[0mself\u001b[0m\u001b[0;34m)\u001b[0m \u001b[0;34m->\u001b[0m \u001b[0;32mNone\u001b[0m\u001b[0;34m:\u001b[0m\u001b[0;34m\u001b[0m\u001b[0;34m\u001b[0m\u001b[0m\n",
            "\u001b[0;32m/usr/local/lib/python3.11/dist-packages/pandas/io/parsers/readers.py\u001b[0m in \u001b[0;36m_make_engine\u001b[0;34m(self, f, engine)\u001b[0m\n\u001b[1;32m   1878\u001b[0m                 \u001b[0;32mif\u001b[0m \u001b[0;34m\"b\"\u001b[0m \u001b[0;32mnot\u001b[0m \u001b[0;32min\u001b[0m \u001b[0mmode\u001b[0m\u001b[0;34m:\u001b[0m\u001b[0;34m\u001b[0m\u001b[0;34m\u001b[0m\u001b[0m\n\u001b[1;32m   1879\u001b[0m                     \u001b[0mmode\u001b[0m \u001b[0;34m+=\u001b[0m \u001b[0;34m\"b\"\u001b[0m\u001b[0;34m\u001b[0m\u001b[0;34m\u001b[0m\u001b[0m\n\u001b[0;32m-> 1880\u001b[0;31m             self.handles = get_handle(\n\u001b[0m\u001b[1;32m   1881\u001b[0m                 \u001b[0mf\u001b[0m\u001b[0;34m,\u001b[0m\u001b[0;34m\u001b[0m\u001b[0;34m\u001b[0m\u001b[0m\n\u001b[1;32m   1882\u001b[0m                 \u001b[0mmode\u001b[0m\u001b[0;34m,\u001b[0m\u001b[0;34m\u001b[0m\u001b[0;34m\u001b[0m\u001b[0m\n",
            "\u001b[0;32m/usr/local/lib/python3.11/dist-packages/pandas/io/common.py\u001b[0m in \u001b[0;36mget_handle\u001b[0;34m(path_or_buf, mode, encoding, compression, memory_map, is_text, errors, storage_options)\u001b[0m\n\u001b[1;32m    871\u001b[0m         \u001b[0;32mif\u001b[0m \u001b[0mioargs\u001b[0m\u001b[0;34m.\u001b[0m\u001b[0mencoding\u001b[0m \u001b[0;32mand\u001b[0m \u001b[0;34m\"b\"\u001b[0m \u001b[0;32mnot\u001b[0m \u001b[0;32min\u001b[0m \u001b[0mioargs\u001b[0m\u001b[0;34m.\u001b[0m\u001b[0mmode\u001b[0m\u001b[0;34m:\u001b[0m\u001b[0;34m\u001b[0m\u001b[0;34m\u001b[0m\u001b[0m\n\u001b[1;32m    872\u001b[0m             \u001b[0;31m# Encoding\u001b[0m\u001b[0;34m\u001b[0m\u001b[0;34m\u001b[0m\u001b[0m\n\u001b[0;32m--> 873\u001b[0;31m             handle = open(\n\u001b[0m\u001b[1;32m    874\u001b[0m                 \u001b[0mhandle\u001b[0m\u001b[0;34m,\u001b[0m\u001b[0;34m\u001b[0m\u001b[0;34m\u001b[0m\u001b[0m\n\u001b[1;32m    875\u001b[0m                 \u001b[0mioargs\u001b[0m\u001b[0;34m.\u001b[0m\u001b[0mmode\u001b[0m\u001b[0;34m,\u001b[0m\u001b[0;34m\u001b[0m\u001b[0;34m\u001b[0m\u001b[0m\n",
            "\u001b[0;31mFileNotFoundError\u001b[0m: [Errno 2] No such file or directory: 'chat.txt'"
          ]
        }
      ]
    },
    {
      "cell_type": "code",
      "source": [
        "import pandas as pd\n",
        "import numpy as np\n",
        "\n",
        "# Step 1: Create the DataFrame\n",
        "df = pd.DataFrame([[18,10,5,11,-2],\n",
        "                   [2,-2,9,-11,3],\n",
        "                   [-4,6,-19,2,1],\n",
        "                   [3,-14,1,-2,8],\n",
        "                   [-2,2,4,6,13]],\n",
        "                 index=list('pqrst'),\n",
        "                 columns=list('abcde'))\n",
        "\n",
        "# Step 2: Extract rows whose sum is even\n",
        "new_df = df[df.apply(lambda row: row.sum() % 2 == 0, axis=1)]\n",
        "\n",
        "# Step 3: Save new_df to Excel (Sheet 1)\n",
        "with pd.ExcelWriter(\"file_df.xlsx\") as writer:\n",
        "    new_df.to_excel(writer, sheet_name='Sheet1')\n",
        "\n",
        "    # Step 4: Copy to df_temp and add new column 'm' = product of each row\n",
        "    df_temp = new_df.copy()\n",
        "    df_temp['m'] = df_temp.eval('a * b * c * d * e', engine='python')  # safer with eval here\n",
        "\n",
        "    # Step 5: Save df_temp to Excel (Sheet 2)\n",
        "    df_temp.to_excel(writer, sheet_name='Sheet2')\n"
      ],
      "metadata": {
        "id": "ivcdRoRNFJ7y"
      },
      "execution_count": 10,
      "outputs": []
    },
    {
      "cell_type": "code",
      "source": [
        "import pandas as pd\n",
        "df = pd.DataFrame([[15, 12],\n",
        "                    [33, 54],\n",
        "                    [10, 32]],\n",
        "                    index = list('ABC'),\n",
        "                    columns = list('DE'))\n",
        "print(df)\n",
        "#     D   E\n",
        "# A  15  12\n",
        "# B  33  54\n",
        "# C  10  32\n",
        "print(df.loc[['A','C'],:])\n",
        "#     D   E\n",
        "# A  15  12\n",
        "# C  10  32\n",
        "print(df.loc[:,'E'])\n",
        "# A    12\n",
        "# B    54\n",
        "# C    32\n",
        "# Name: E, dtype: int64\n",
        "print(df.loc['B', 'D'])\n",
        "# 33\n",
        "\n"
      ],
      "metadata": {
        "colab": {
          "base_uri": "https://localhost:8080/"
        },
        "id": "vBtLEENSFViB",
        "outputId": "719ead65-1d69-40db-b1e5-bb718864ee91"
      },
      "execution_count": 12,
      "outputs": [
        {
          "output_type": "stream",
          "name": "stdout",
          "text": [
            "    D   E\n",
            "A  15  12\n",
            "B  33  54\n",
            "C  10  32\n",
            "    D   E\n",
            "A  15  12\n",
            "C  10  32\n",
            "A    12\n",
            "B    54\n",
            "C    32\n",
            "Name: E, dtype: int64\n",
            "33\n"
          ]
        }
      ]
    },
    {
      "cell_type": "code",
      "source": [
        "import pandas as pd\n",
        "df = pd.DataFrame([[15, 12],\n",
        "                    [33, 54],\n",
        "                    [10, 32]])\n",
        "print(df)\n",
        "#     0   1\n",
        "# 0  15  12\n",
        "# 1  33  54\n",
        "# 2  10  32\n",
        "print(df.iloc[0:2,:])\n",
        "#     0   1\n",
        "# 0  15  12\n",
        "# 1  33  54\n",
        "print(df.iloc[:,0:1])\n",
        "#     0\n",
        "# 0  15\n",
        "# 1  33\n",
        "# 2  10\n",
        "print(df.iloc[:,:])\n",
        "#     0   1\n",
        "# 0  15  12\n",
        "# 1  33  54\n",
        "# 2  10  32\n",
        "\n"
      ],
      "metadata": {
        "colab": {
          "base_uri": "https://localhost:8080/"
        },
        "id": "PHPf03lwFdrl",
        "outputId": "7598dd59-ae32-46ad-bf8c-0ae1ecb6b1d9"
      },
      "execution_count": 13,
      "outputs": [
        {
          "output_type": "stream",
          "name": "stdout",
          "text": [
            "    0   1\n",
            "0  15  12\n",
            "1  33  54\n",
            "2  10  32\n",
            "    0   1\n",
            "0  15  12\n",
            "1  33  54\n",
            "    0\n",
            "0  15\n",
            "1  33\n",
            "2  10\n",
            "    0   1\n",
            "0  15  12\n",
            "1  33  54\n",
            "2  10  32\n"
          ]
        }
      ]
    },
    {
      "cell_type": "code",
      "source": [
        "import pandas as pd\n",
        "df = pd.DataFrame([[15, 12],\n",
        "                    [33, 54],\n",
        "                    [10, 32]],\n",
        "                    index = ['one','two','three'],\n",
        "                    columns = ['col1', 'col2'])\n",
        "print(df)\n",
        "#        col1  col2\n",
        "# one      15    12\n",
        "# two      33    54\n",
        "# three    10    32\n",
        "print(df.filter(regex = 'e$', axis = 0))      # row name ending with 'e'\n",
        "#        col1  col2\n",
        "# one      15    12\n",
        "# three    10    32\n",
        "print(df.filter(regex = '^c', axis = 1))      # column name starting with 'c'\n",
        "#        col1  col2\n",
        "# one      15    12\n",
        "# two      33    54\n",
        "# three    10    32\n",
        "\n"
      ],
      "metadata": {
        "colab": {
          "base_uri": "https://localhost:8080/"
        },
        "id": "0bRNOSAZFgHR",
        "outputId": "41bd27a3-f8b7-4bc6-cef4-a8615124fb7e"
      },
      "execution_count": 14,
      "outputs": [
        {
          "output_type": "stream",
          "name": "stdout",
          "text": [
            "       col1  col2\n",
            "one      15    12\n",
            "two      33    54\n",
            "three    10    32\n",
            "       col1  col2\n",
            "one      15    12\n",
            "three    10    32\n",
            "       col1  col2\n",
            "one      15    12\n",
            "two      33    54\n",
            "three    10    32\n"
          ]
        }
      ]
    },
    {
      "cell_type": "code",
      "source": [
        "import pandas as pd\n",
        "df = pd.DataFrame([[15, 12],\n",
        "                    [33, 54],\n",
        "                    [10, 32]])\n",
        "print(df[df >= 15])\n",
        "#       0     1\n",
        "# 0  15.0   NaN\n",
        "# 1  33.0  54.0\n",
        "# 2   NaN  32.0\n",
        "\n"
      ],
      "metadata": {
        "colab": {
          "base_uri": "https://localhost:8080/"
        },
        "id": "NtwSGZ5NFilI",
        "outputId": "75aefd69-9e74-4241-b13f-5ea601aba677"
      },
      "execution_count": 15,
      "outputs": [
        {
          "output_type": "stream",
          "name": "stdout",
          "text": [
            "      0     1\n",
            "0  15.0   NaN\n",
            "1  33.0  54.0\n",
            "2   NaN  32.0\n"
          ]
        }
      ]
    },
    {
      "cell_type": "code",
      "source": [
        "ts = df.iloc[:, 0].copy()\n",
        "ts = ts.reset_index(drop=True)\n",
        "ts.columns = ['Timestamp']\n",
        "\n",
        "\n"
      ],
      "metadata": {
        "id": "gXoiVsTNFkrC"
      },
      "execution_count": 19,
      "outputs": []
    },
    {
      "cell_type": "markdown",
      "source": [
        "Exercise\n",
        "Problem Statement:\n",
        "Consider Pittsburgh bridge dataset which consists of 108 instances and 13 attributes. Perform the listed tasks:\n",
        "\n",
        "Copy and save dataset to your local drive with name bridge.xlsx. Since all the data is combined into 1 column, therefore, write a python code using pandas to separate this data into distinct columns.\n",
        "\n",
        "Provide header to the dataframe with given values -\n",
        "\n",
        "['IDENTIF','RIVER', 'LOCATION', 'ERECTED', 'PURPOSE', 'LENGTH', 'LANES',\n",
        "  'CLEAR-G', 'T-OR-D', 'MATERIAL', 'SPAN', 'REL-L', 'TYPE']\n",
        "                  \n",
        "List names of the column(s) along with the count of missing number of values. Here, missing values are coded with '?'.\n",
        "\n",
        "Find the column(s) names ending with either of the following 'N', 'H', 'S'. If the number of recorded data in these columns are less than 100, drop them.\n",
        "\n",
        "Drop all the row(s) which have more than or equal to 2 missing values. What is the shape of the final DataFrame?\n",
        "\n",
        "Fill all the remaining missing values with the mode of each column values.\n",
        "\n",
        "\n",
        "\n",
        "Hints/Answers\n",
        "1. Hint: Use string split() function.\n",
        "\n",
        "3. Answer:\n",
        "\n",
        "\n",
        "\n",
        "4. Answer: Columns to be dropped: LENGTH, LANES, SPAN. Hint: Use regex\n",
        "\n",
        "5. Answer: (106, 10). Hint: Workout on dropna-threshold argument\n",
        "\n",
        "![image.png](data:image/png;base64,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)"
      ],
      "metadata": {
        "id": "Oslnu24MHpNF"
      }
    },
    {
      "cell_type": "code",
      "source": [
        "import pandas as pd\n",
        "\n",
        "# Load the dataset (assuming the file is already saved as 'bridge.csv')\n",
        "df = pd.read_csv('/content/data1.csv', header=None)\n",
        "\n",
        "# Split the data in the single column into multiple columns based on space\n",
        "df = df[0].str.split(' ', expand=True)\n",
        "\n",
        "# Print the shape of the DataFrame after split to verify the number of columns\n",
        "print(f\"Shape after split: {df.shape}\")\n",
        "\n",
        "# If the split results in 13 columns, assign the provided column names\n",
        "if df.shape[1] == 13:\n",
        "    df.columns = ['IDENTIF', 'RIVER', 'LOCATION', 'ERECTED', 'PURPOSE', 'LENGTH', 'LANES',\n",
        "                  'CLEAR-G', 'T-OR-D', 'MATERIAL', 'SPAN', 'REL-L', 'TYPE']\n",
        "else:\n",
        "    print(\"The number of columns after split does not match 13. Please inspect the data.\")\n",
        "    # Inspect first few rows of the data to understand the issue\n",
        "    print(df.head())\n",
        "\n",
        "# Ensure column names are strings before using str accessor\n",
        "df.columns = df.columns.astype(str)\n",
        "\n",
        "# Task 3: Find missing values and count them\n",
        "missing_values = df.apply(lambda x: x[x == '?'].count())\n",
        "print(f\"Missing Values Count:\\n{missing_values}\")\n",
        "\n",
        "# Task 4: Drop columns where the column name ends with 'N', 'H', or 'S' and has less than 100 non-null values\n",
        "# Use regex to match columns ending with 'N', 'H', or 'S'\n",
        "columns_to_drop = df.columns[df.columns.str.endswith(('N', 'H', 'S'))]\n",
        "for col in columns_to_drop:\n",
        "    if df[col].notnull().sum() < 100:\n",
        "        df.drop(col, axis=1, inplace=True)\n",
        "\n",
        "print(f\"Columns to be dropped: {columns_to_drop}\")\n",
        "\n",
        "# Task 5: Drop rows with 2 or more missing values\n",
        "df = df.dropna(thresh=len(df.columns) - 2)  # Keep rows with at least len(df.columns) - 2 non-null values\n",
        "\n",
        "print(f\"Shape of DataFrame after dropping rows with >= 2 missing values: {df.shape}\")\n",
        "\n",
        "# Task 6: Fill remaining missing values with the mode of each column\n",
        "df = df.apply(lambda x: x.replace('?', x.mode()[0]) if x.dtype == 'object' else x)\n",
        "\n",
        "# Finally, check the resulting DataFrame\n",
        "print(f\"DataFrame after filling missing values with mode:\\n{df}\")\n"
      ],
      "metadata": {
        "colab": {
          "base_uri": "https://localhost:8080/"
        },
        "id": "V5JI58zDGjmH",
        "outputId": "ff9b1c3b-bff6-494a-db43-548624c8297b"
      },
      "execution_count": 29,
      "outputs": [
        {
          "output_type": "stream",
          "name": "stdout",
          "text": [
            "Shape after split: (108, 1)\n",
            "The number of columns after split does not match 13. Please inspect the data.\n",
            "    0\n",
            "0  E1\n",
            "1  E2\n",
            "2  E3\n",
            "3  E5\n",
            "4  E6\n",
            "Missing Values Count:\n",
            "0    0\n",
            "dtype: int64\n",
            "Columns to be dropped: Index([], dtype='object')\n",
            "Shape of DataFrame after dropping rows with >= 2 missing values: (108, 1)\n",
            "DataFrame after filling missing values with mode:\n",
            "        0\n",
            "0      E1\n",
            "1      E2\n",
            "2      E3\n",
            "3      E5\n",
            "4      E6\n",
            "..    ...\n",
            "103   E84\n",
            "104   E91\n",
            "105   E90\n",
            "106  E100\n",
            "107  E109\n",
            "\n",
            "[108 rows x 1 columns]\n"
          ]
        }
      ]
    },
    {
      "cell_type": "code",
      "source": [
        "import pandas as pd\n",
        "\n",
        "df = pd.DataFrame([[2,5],\n",
        "                   [56,20]],\n",
        "                   index = list('pq'),\n",
        "                    columns = list('ab'))\n",
        "\n",
        "def loc(a,b):\n",
        "    try:\n",
        "        out = df.loc[a,b]\n",
        "    except:\n",
        "        return 0\n",
        "    return out\n",
        "\n",
        "def iloc(a,b):\n",
        "    try:\n",
        "        out = df.iloc[a,b]\n",
        "    except:\n",
        "        return 0\n",
        "    return out\n",
        "\n",
        "print( iloc(0,'b') )\n",
        "print( loc(0,'b') )\n",
        "print( loc('q','a') )\n",
        "print( iloc('q','b') )\n"
      ],
      "metadata": {
        "colab": {
          "base_uri": "https://localhost:8080/"
        },
        "id": "bSaG6U2ZH1Qg",
        "outputId": "ed322de5-5d25-4716-e677-8aeeca8ef288"
      },
      "execution_count": 31,
      "outputs": [
        {
          "output_type": "stream",
          "name": "stdout",
          "text": [
            "0\n",
            "0\n",
            "56\n",
            "0\n"
          ]
        }
      ]
    },
    {
      "cell_type": "code",
      "source": [
        "import pandas as pd\n",
        "df = pd.DataFrame({'A' : [1,-4,7],\n",
        "                   'B' : [-2,5,-8],\n",
        "                   'C' : [-3,-6,9]},\n",
        "                   index = list('STU'))\n",
        "print(df.apply(np.sum, axis = 0).sum())\n"
      ],
      "metadata": {
        "colab": {
          "base_uri": "https://localhost:8080/"
        },
        "id": "mi4DFYC6IDzH",
        "outputId": "a0a90473-c666-4449-dce8-6b3a5b57e3e0"
      },
      "execution_count": 32,
      "outputs": [
        {
          "output_type": "stream",
          "name": "stdout",
          "text": [
            "-1\n"
          ]
        }
      ]
    },
    {
      "cell_type": "code",
      "source": [
        "import pandas as pd\n",
        "df1 = pd.DataFrame({'A': [1,4,7],\n",
        "                    'B': [2,5,8],\n",
        "                    'C': [3,6,9]},\n",
        "                    index = list ('PQR'))\n",
        "df2 = pd.DataFrame({'A': [1,-4,-7],\n",
        "                    'B': [-2,5,-8],\n",
        "                    'C': [-3,-6,9]},\n",
        "                    index = list ('STU'))\n",
        "print(df1.sub(df2).count().sum())"
      ],
      "metadata": {
        "colab": {
          "base_uri": "https://localhost:8080/"
        },
        "id": "icuzrcVPIJlz",
        "outputId": "2f6248a0-fe21-4a6b-8139-207db3d05d97"
      },
      "execution_count": 33,
      "outputs": [
        {
          "output_type": "stream",
          "name": "stdout",
          "text": [
            "0\n"
          ]
        }
      ]
    },
    {
      "cell_type": "code",
      "source": [
        "import pandas as pd\n",
        "df = pd.DataFrame([[15,12],\n",
        "                   [33,54],\n",
        "                   [10,32]],\n",
        "                   columns = list('AB'))\n",
        "print(df.eval('B-A').median())"
      ],
      "metadata": {
        "colab": {
          "base_uri": "https://localhost:8080/"
        },
        "id": "bY07IC79IMsu",
        "outputId": "8ded2f03-8036-434f-c250-a6ef1515704c"
      },
      "execution_count": 36,
      "outputs": [
        {
          "output_type": "stream",
          "name": "stdout",
          "text": [
            "21.0\n"
          ]
        }
      ]
    },
    {
      "cell_type": "code",
      "source": [
        "import pandas as pd\n",
        "data1 = pd.DataFrame([[15, 12, -3],\n",
        "                    [33, 54, 21],\n",
        "                    [10, 32, 22]],\n",
        "                    columns = list('ABC'))\n",
        "data2 = pd.DataFrame([[10, 1, 3],\n",
        "                    [33, -54, 2],\n",
        "                    [10, 0.32, 2]],\n",
        "                    columns = list('DEF'))\n",
        "print(data1)\n",
        "#     A   B   C\n",
        "# 0  15  12  -3\n",
        "# 1  33  54  21\n",
        "# 2  10  32  22\n",
        "print(data2)\n",
        "#     D      E  F\n",
        "# 0  10   1.00  3\n",
        "# 1  33 -54.00  2\n",
        "# 2  10   0.32  2\n",
        "print(pd.concat( [data1,data2], axis = 1 ))\n",
        "#     A   B   C   D      E  F\n",
        "# 0  15  12  -3  10   1.00  3\n",
        "# 1  33  54  21  33 -54.00  2\n",
        "# 2  10  32  22  10   0.32  2\n",
        "\n",
        "\n"
      ],
      "metadata": {
        "colab": {
          "base_uri": "https://localhost:8080/"
        },
        "id": "wF3lfG6yIqnL",
        "outputId": "147aa403-f3fb-4ee0-88a8-75de9ae4be9d"
      },
      "execution_count": 39,
      "outputs": [
        {
          "output_type": "stream",
          "name": "stdout",
          "text": [
            "    A   B   C\n",
            "0  15  12  -3\n",
            "1  33  54  21\n",
            "2  10  32  22\n",
            "    D      E  F\n",
            "0  10   1.00  3\n",
            "1  33 -54.00  2\n",
            "2  10   0.32  2\n",
            "    A   B   C   D      E  F\n",
            "0  15  12  -3  10   1.00  3\n",
            "1  33  54  21  33 -54.00  2\n",
            "2  10  32  22  10   0.32  2\n"
          ]
        }
      ]
    },
    {
      "cell_type": "code",
      "source": [
        "import numpy as np\n",
        "import pandas as pd\n",
        "data1 = pd.DataFrame(np.random.randn(9).reshape(3,3),\n",
        "                   columns = list('ABC'))\n",
        "data2 = pd.DataFrame(np.arange(9).reshape(3,3),\n",
        "                   columns = list('ABC'))\n",
        "print(data1)     # Random values\n",
        "#           A         B         C\n",
        "# 0  1.957218  0.433266  1.214950\n",
        "# 1 -0.143500 -0.092030 -0.823898\n",
        "# 2  0.481486 -0.024111 -0.769195\n",
        "print(data2)\n",
        "#    A  B  C\n",
        "# 0  0  1  2\n",
        "# 1  3  4  5\n",
        "# 2  6  7  8\n",
        "print(pd.concat( [data1,data2], axis = 0 ))\n",
        "#           A         B         C\n",
        "# 0  1.957218  0.433266  1.214950\n",
        "# 1 -0.143500 -0.092030 -0.823898\n",
        "# 2  0.481486 -0.024111 -0.769195\n",
        "# 0  0.000000  1.000000  2.000000\n",
        "# 1  3.000000  4.000000  5.000000\n",
        "# 2  6.000000  7.000000  8.000000\n"
      ],
      "metadata": {
        "colab": {
          "base_uri": "https://localhost:8080/"
        },
        "id": "Iqh2c_sgJAsi",
        "outputId": "b504e111-edb5-417c-c13a-506c8d856c94"
      },
      "execution_count": 40,
      "outputs": [
        {
          "output_type": "stream",
          "name": "stdout",
          "text": [
            "          A         B         C\n",
            "0 -0.544596  0.370505 -2.348478\n",
            "1 -1.412680  0.402810 -0.352426\n",
            "2 -1.437258  1.502058  1.747748\n",
            "   A  B  C\n",
            "0  0  1  2\n",
            "1  3  4  5\n",
            "2  6  7  8\n",
            "          A         B         C\n",
            "0 -0.544596  0.370505 -2.348478\n",
            "1 -1.412680  0.402810 -0.352426\n",
            "2 -1.437258  1.502058  1.747748\n",
            "0  0.000000  1.000000  2.000000\n",
            "1  3.000000  4.000000  5.000000\n",
            "2  6.000000  7.000000  8.000000\n"
          ]
        }
      ]
    },
    {
      "cell_type": "code",
      "source": [
        "import numpy as np\n",
        "import pandas as pd\n",
        "multi_ind = pd.MultiIndex.from_tuples(\n",
        "                                      [('IND','Game1'),\n",
        "                                       ('IND','Game2'),\n",
        "                                       ('US','Game1'),\n",
        "                                       ('US','Game2')],\n",
        "                                       names = [\n",
        "                                                'Country',\n",
        "                                                'Game'])\n",
        "df = pd.DataFrame(np.random.randn(4,2),     # some random values\n",
        "                  index = multi_ind,\n",
        "                  columns = ['Year1', 'Year2'])\n",
        "print(df)\n",
        "#                   Year1     Year2\n",
        "# Country Game\n",
        "# IND     Game1 -2.263939 -0.793986\n",
        "#         Game2 -0.390861  0.728531\n",
        "# US      Game1 -0.944708  0.352151\n",
        "#         Game2 -0.232056  0.452532\n"
      ],
      "metadata": {
        "colab": {
          "base_uri": "https://localhost:8080/"
        },
        "id": "0pGthQ_jJGHC",
        "outputId": "5deade5b-ec17-4a2f-dfbe-c95d64a15222"
      },
      "execution_count": 41,
      "outputs": [
        {
          "output_type": "stream",
          "name": "stdout",
          "text": [
            "                  Year1     Year2\n",
            "Country Game                     \n",
            "IND     Game1 -0.393451  0.376638\n",
            "        Game2  0.503812  1.355158\n",
            "US      Game1  1.251177  0.524167\n",
            "        Game2 -0.169796 -1.782859\n"
          ]
        }
      ]
    },
    {
      "cell_type": "code",
      "source": [
        "''' Increase in length '''\n",
        "print(df.stack())\n",
        "# Country  Game\n",
        "# IND      Game1  Year1   -2.263939\n",
        "#                 Year2   -0.793986\n",
        "#          Game2  Year1   -0.390861\n",
        "#                 Year2    0.728531\n",
        "# US       Game1  Year1   -0.944708\n",
        "#                 Year2    0.352151\n",
        "#          Game2  Year1   -0.232056\n",
        "#                 Year2    0.452532\n",
        "# dtype: float64\n",
        "''' Increase in width '''\n",
        "print(df.unstack())\n",
        "#             Year1               Year2\n",
        "# Game        Game1     Game2     Game1     Game2\n",
        "# Country\n",
        "# IND     -2.263939 -0.390861 -0.793986  0.728531\n",
        "# US      -0.944708 -0.232056  0.352151  0.452532\n"
      ],
      "metadata": {
        "colab": {
          "base_uri": "https://localhost:8080/"
        },
        "id": "2Gtcbkp3JIkh",
        "outputId": "7e2b7dc9-2256-4b0d-dede-2356a77a9d28"
      },
      "execution_count": 42,
      "outputs": [
        {
          "output_type": "stream",
          "name": "stdout",
          "text": [
            "Country  Game        \n",
            "IND      Game1  Year1   -0.393451\n",
            "                Year2    0.376638\n",
            "         Game2  Year1    0.503812\n",
            "                Year2    1.355158\n",
            "US       Game1  Year1    1.251177\n",
            "                Year2    0.524167\n",
            "         Game2  Year1   -0.169796\n",
            "                Year2   -1.782859\n",
            "dtype: float64\n",
            "            Year1               Year2          \n",
            "Game        Game1     Game2     Game1     Game2\n",
            "Country                                        \n",
            "IND     -0.393451  0.503812  0.376638  1.355158\n",
            "US       1.251177 -0.169796  0.524167 -1.782859\n"
          ]
        }
      ]
    },
    {
      "cell_type": "code",
      "source": [
        "import pandas as pd\n",
        "df = pd.DataFrame([\n",
        "            ['IND', 'Gold', 'Game1', '9.9'],\n",
        "            ['IND', 'Bronze', 'Game2', '8'],\n",
        "            ['USA', 'Silver', 'Game1', '9.5'],\n",
        "            ['USA', 'Gold', 'Game2', '8.6'],\n",
        "            ], columns = ['Country', 'Medal',\n",
        "                'Game', 'Score'],\n",
        "                index = ['Year1', 'Year2','Year1', 'Year2'])\n",
        "\n",
        "print(df)\n",
        "#       Country   Medal   Game Score\n",
        "# Year1     IND    Gold  Game1   9.9\n",
        "# Year2     IND  Bronze  Game2     8\n",
        "# Year1     USA  Silver  Game1   9.5\n",
        "# Year2     USA    Gold  Game2   8.6\n"
      ],
      "metadata": {
        "colab": {
          "base_uri": "https://localhost:8080/"
        },
        "id": "k9bGgSmHJM6x",
        "outputId": "2a4d2425-65bb-4706-c2a4-f708136f78ff"
      },
      "execution_count": 43,
      "outputs": [
        {
          "output_type": "stream",
          "name": "stdout",
          "text": [
            "      Country   Medal   Game Score\n",
            "Year1     IND    Gold  Game1   9.9\n",
            "Year2     IND  Bronze  Game2     8\n",
            "Year1     USA  Silver  Game1   9.5\n",
            "Year2     USA    Gold  Game2   8.6\n"
          ]
        }
      ]
    },
    {
      "cell_type": "code",
      "source": [
        "# Listing all the features\n",
        "print(df.pivot(index = 'Country', columns = 'Medal'))\n",
        "#           Game                Score\n",
        "# Medal   Bronze   Gold Silver Bronze Gold Silver\n",
        "# Country\n",
        "# IND      Game2  Game1   None      8  9.9   None\n",
        "# USA       None  Game2  Game1   None  8.6    9.5\n",
        "# Listing only Score feature\n",
        "print(df.pivot(index = 'Country', columns = 'Medal',\n",
        "               values = 'Score'))\n",
        "# Medal   Bronze Gold Silver\n",
        "# Country\n",
        "# IND          8  9.9   None\n",
        "# USA       None  8.6    9.5\n"
      ],
      "metadata": {
        "colab": {
          "base_uri": "https://localhost:8080/"
        },
        "id": "SnxnXslZJO_H",
        "outputId": "05237dfa-6886-4894-e70a-57bc573e4dc9"
      },
      "execution_count": 44,
      "outputs": [
        {
          "output_type": "stream",
          "name": "stdout",
          "text": [
            "          Game                Score            \n",
            "Medal   Bronze   Gold Silver Bronze Gold Silver\n",
            "Country                                        \n",
            "IND      Game2  Game1    NaN      8  9.9    NaN\n",
            "USA        NaN  Game2  Game1    NaN  8.6    9.5\n",
            "Medal   Bronze Gold Silver\n",
            "Country                   \n",
            "IND          8  9.9    NaN\n",
            "USA        NaN  8.6    9.5\n"
          ]
        }
      ]
    },
    {
      "cell_type": "code",
      "source": [
        "import numpy as np\n",
        "import pandas as pd\n",
        "df = pd.DataFrame([\n",
        "            ['IND', 'Gold', 'Game1', '9.9'],\n",
        "            ['IND', 'Silver', 'Game1', '9.5'],\n",
        "            ['IND', 'Bronze', 'Game2', '8'],\n",
        "            ['USA', 'Bronze', 'Game1', '9.0'],\n",
        "            ['USA', 'Silver', 'Game2', '8.6'],\n",
        "            ], columns = ['Country', 'Medal',\n",
        "                'Game', 'Score'],\n",
        "                index = ['Year1', 'Year1', 'Year2','Year1', 'Year2'])\n",
        "\n",
        "print(df)\n",
        "#       Country   Medal   Game Score\n",
        "# Year1     IND    Gold  Game1   9.9\n",
        "# Year1     IND  Silver  Game1   9.5\n",
        "# Year2     IND  Bronze  Game2     8\n",
        "# Year1     USA  Bronze  Game1   9.0\n",
        "# Year2     USA  Silver  Game2   8.6\n",
        "print(df.pivot_table(index = 'Country',\n",
        "                     columns = 'Game',\n",
        "                     values = 'Score',\n",
        "                     aggfunc = np.max))\n",
        "# Game    Game1 Game2\n",
        "# Country\n",
        "# IND       9.9     8\n",
        "# USA       9.0   8.6\n"
      ],
      "metadata": {
        "colab": {
          "base_uri": "https://localhost:8080/"
        },
        "id": "lXBjuhf3JU99",
        "outputId": "731ac016-b4b0-489c-9b9a-1459b31c9c89"
      },
      "execution_count": 45,
      "outputs": [
        {
          "output_type": "stream",
          "name": "stdout",
          "text": [
            "      Country   Medal   Game Score\n",
            "Year1     IND    Gold  Game1   9.9\n",
            "Year1     IND  Silver  Game1   9.5\n",
            "Year2     IND  Bronze  Game2     8\n",
            "Year1     USA  Bronze  Game1   9.0\n",
            "Year2     USA  Silver  Game2   8.6\n",
            "Game    Game1 Game2\n",
            "Country            \n",
            "IND       9.9     8\n",
            "USA       9.0   8.6\n"
          ]
        },
        {
          "output_type": "stream",
          "name": "stderr",
          "text": [
            "<ipython-input-45-c1f2d2b0ce7e>:20: FutureWarning: The provided callable <function max at 0x7d2a46a0ca40> is currently using DataFrameGroupBy.max. In a future version of pandas, the provided callable will be used directly. To keep current behavior pass the string \"max\" instead.\n",
            "  print(df.pivot_table(index = 'Country',\n"
          ]
        }
      ]
    },
    {
      "cell_type": "code",
      "source": [
        "import pandas as pd\n",
        "df = pd.DataFrame([[\"Laptop\", 1000],\n",
        "                   [\"Laptop\", 2520],\n",
        "                   [\"Desktop\", 3000],\n",
        "                   [\"Desktop\", 400]], columns = ['Category','Sales'])\n",
        "print(df)\n",
        "\n",
        "print(df.groupby(['Category'], sort = False).sum())\n"
      ],
      "metadata": {
        "colab": {
          "base_uri": "https://localhost:8080/"
        },
        "id": "mwZSYnqyJZUs",
        "outputId": "1e12825c-ff1d-4c9f-f128-b52862696956"
      },
      "execution_count": 47,
      "outputs": [
        {
          "output_type": "stream",
          "name": "stdout",
          "text": [
            "  Category  Sales\n",
            "0   Laptop   1000\n",
            "1   Laptop   2520\n",
            "2  Desktop   3000\n",
            "3  Desktop    400\n",
            "          Sales\n",
            "Category       \n",
            "Laptop     3520\n",
            "Desktop    3400\n"
          ]
        }
      ]
    },
    {
      "cell_type": "markdown",
      "source": [
        "Problem Statement:\n",
        "Given a dataframe df which has three attributes defining: set_name: system names, spd_per_day: Speed per day, speed: Network speed in MBps\n",
        "\n",
        "sys = ['s1','s1','s1','s1',\n",
        "        's2','s2','s2','s2']\n",
        "net_day = ['d1','d1','d2','d2',\n",
        "        'd1','d1','d2','d2']\n",
        "spd = [1.3, 11.4, 5.6, 12.3,\n",
        "        6.2, 1.1, 20.0, 8.8]\n",
        "df = pd.DataFrame({'set_name':sys,\n",
        "                    'spd_per_day':net_day,\n",
        "                    'speed':spd})\n",
        "              \n",
        "Do the following:\n",
        "\n",
        "Construct a dataframe new_df where the given dataset is grouped based on each system (s1 and s2) and speed per day (d1 and d2) with the median speed each day per system. Also, provide a secondary name ' Median' for the speed attribute.\n",
        "\n",
        "Sort the dataframe new_df in the ascending order of the median speed.\n",
        "\n",
        "Hints/Answers:\n",
        "1. Answer:\n",
        "\n",
        "set_name spd_per_day  speed\n",
        "                       Median\n",
        "0       s1          d1   6.35\n",
        "1       s1          d2   8.95\n",
        "2       s2          d1   3.65\n",
        "3       s2          d2  14.40\n",
        "\n",
        "2. Answer:\n",
        "\n",
        "set_name spd_per_day  speed\n",
        "                       Median\n",
        "2       s2          d1   3.65\n",
        "0       s1          d1   6.35\n",
        "1       s1          d2   8.95\n",
        "3       s2          d2  14.40\n",
        "\n",
        "Hint: Use sort_values()\n",
        "\n"
      ],
      "metadata": {
        "id": "v2Orkt6QJh5B"
      }
    },
    {
      "cell_type": "code",
      "source": [
        "import pandas as pd\n",
        "\n",
        "# Given data\n",
        "sys = ['s1', 's1', 's1', 's1', 's2', 's2', 's2', 's2']\n",
        "net_day = ['d1', 'd1', 'd2', 'd2', 'd1', 'd1', 'd2', 'd2']\n",
        "spd = [1.3, 11.4, 5.6, 12.3, 6.2, 1.1, 20.0, 8.8]\n",
        "\n",
        "# Create the dataframe\n",
        "df = pd.DataFrame({'set_name': sys, 'spd_per_day': net_day, 'speed': spd})\n",
        "\n",
        "# Group by set_name and spd_per_day and calculate the median speed\n",
        "new_df = df.groupby(['set_name', 'spd_per_day'])['speed'].median().reset_index()\n",
        "\n",
        "# Rename the 'speed' column to 'Median'\n",
        "new_df.rename(columns={'speed': 'Median'}, inplace=True)\n",
        "\n",
        "# Sort the dataframe by the 'Median' column in ascending order\n",
        "new_df_sorted = new_df.sort_values(by='Median', ascending=True)\n",
        "\n",
        "# Print the result\n",
        "print(new_df_sorted)\n"
      ],
      "metadata": {
        "colab": {
          "base_uri": "https://localhost:8080/"
        },
        "id": "vTJECFl7Ji84",
        "outputId": "841958ba-5ede-4953-8d57-574d0be8030a"
      },
      "execution_count": 48,
      "outputs": [
        {
          "output_type": "stream",
          "name": "stdout",
          "text": [
            "  set_name spd_per_day  Median\n",
            "2       s2          d1    3.65\n",
            "0       s1          d1    6.35\n",
            "1       s1          d2    8.95\n",
            "3       s2          d2   14.40\n"
          ]
        }
      ]
    }
  ]
}